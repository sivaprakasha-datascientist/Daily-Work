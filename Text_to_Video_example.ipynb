{
  "cells": [
    {
      "cell_type": "markdown",
      "metadata": {
        "id": "view-in-github",
        "colab_type": "text"
      },
      "source": [
        "<a href=\"https://colab.research.google.com/github/sivaprakasha-datascientist/Daily-Work/blob/main/Text_to_Video_example.ipynb\" target=\"_parent\"><img src=\"https://colab.research.google.com/assets/colab-badge.svg\" alt=\"Open In Colab\"/></a>"
      ]
    },
    {
      "cell_type": "markdown",
      "metadata": {
        "id": "fxiI_TSFJoUG"
      },
      "source": [
        "### Steps for generating video from text\n",
        "\n",
        "1. Use openai to generate a video script from a topic\n",
        "2. Use edgetts to pick a voice and create a audio based on the above generated script\n",
        "3. Use whisper and get timed captions for the above audio\n",
        "4. Now generate visual keywords for the video script using openai api\n",
        "5. Fetch videos based on the above visual keywords using pexels api\n",
        "6. Stich together the videos, audio and captions using Moviepy"
      ]
    },
    {
      "cell_type": "markdown",
      "metadata": {
        "id": "6fkhqa92Cin_"
      },
      "source": [
        "### Install python 3.11"
      ]
    },
    {
      "cell_type": "code",
      "execution_count": null,
      "metadata": {
        "id": "meK-2tnywL_7",
        "outputId": "a3e5bf82-a225-45b8-eec6-205e7fa47763",
        "colab": {
          "base_uri": "https://localhost:8080/"
        }
      },
      "outputs": [
        {
          "output_type": "stream",
          "name": "stdout",
          "text": [
            "Get:1 http://security.ubuntu.com/ubuntu jammy-security InRelease [129 kB]\n",
            "Hit:2 http://archive.ubuntu.com/ubuntu jammy InRelease\n",
            "Get:3 https://cloud.r-project.org/bin/linux/ubuntu jammy-cran40/ InRelease [3,632 B]\n",
            "Get:4 https://developer.download.nvidia.com/compute/cuda/repos/ubuntu2204/x86_64  InRelease [1,581 B]\n",
            "Get:5 https://r2u.stat.illinois.edu/ubuntu jammy InRelease [6,555 B]\n",
            "Get:6 http://archive.ubuntu.com/ubuntu jammy-updates InRelease [128 kB]\n",
            "Hit:7 https://ppa.launchpadcontent.net/deadsnakes/ppa/ubuntu jammy InRelease\n",
            "Hit:8 https://ppa.launchpadcontent.net/graphics-drivers/ppa/ubuntu jammy InRelease\n",
            "Hit:9 https://ppa.launchpadcontent.net/ubuntugis/ppa/ubuntu jammy InRelease\n",
            "Get:10 http://archive.ubuntu.com/ubuntu jammy-backports InRelease [127 kB]\n",
            "Get:11 http://security.ubuntu.com/ubuntu jammy-security/universe amd64 Packages [1,230 kB]\n",
            "Get:12 http://security.ubuntu.com/ubuntu jammy-security/main amd64 Packages [2,610 kB]\n",
            "Get:13 https://developer.download.nvidia.com/compute/cuda/repos/ubuntu2204/x86_64  Packages [1,317 kB]\n",
            "Get:14 https://r2u.stat.illinois.edu/ubuntu jammy/main all Packages [8,700 kB]\n",
            "Get:15 https://r2u.stat.illinois.edu/ubuntu jammy/main amd64 Packages [2,661 kB]\n",
            "Get:16 http://archive.ubuntu.com/ubuntu jammy-updates/main amd64 Packages [2,939 kB]\n",
            "Get:17 http://archive.ubuntu.com/ubuntu jammy-updates/universe amd64 Packages [1,526 kB]\n",
            "Get:18 http://archive.ubuntu.com/ubuntu jammy-backports/universe amd64 Packages [35.2 kB]\n",
            "Fetched 21.4 MB in 8s (2,575 kB/s)\n",
            "Reading package lists... Done\n",
            "W: Skipping acquire of configured file 'main/source/Sources' as repository 'https://r2u.stat.illinois.edu/ubuntu jammy InRelease' does not seem to provide it (sources.list entry misspelt?)\n",
            "Reading package lists... Done\n",
            "Building dependency tree... Done\n",
            "Reading state information... Done\n",
            "python3.11 is already the newest version (3.11.11-1+jammy1).\n",
            "0 upgraded, 0 newly installed, 0 to remove and 33 not upgraded.\n",
            "There are 2 choices for the alternative python3 (providing /usr/bin/python3).\n",
            "\n",
            "  Selection    Path                 Priority   Status\n",
            "------------------------------------------------------------\n",
            "* 0            /usr/bin/python3.11   1         auto mode\n",
            "  1            /usr/bin/python3.10   1         manual mode\n",
            "  2            /usr/bin/python3.11   1         manual mode\n",
            "\n",
            "Press <enter> to keep the current choice[*], or type selection number: "
          ]
        }
      ],
      "source": [
        "!sudo apt-get update -y\n",
        "!sudo apt-get install -y python3.11\n",
        "!sudo update-alternatives --install /usr/bin/python3 python3 /usr/bin/python3.11 1\n",
        "!sudo update-alternatives --config python3\n",
        "!sudo apt-get install -y python3.11-distutils\n",
        "!wget https://bootstrap.pypa.io/get-pip.py\n",
        "!python3.11 get-pip.py"
      ]
    },
    {
      "cell_type": "code",
      "execution_count": null,
      "metadata": {
        "id": "T4_IZ9yOg1ez"
      },
      "outputs": [],
      "source": [
        "!git clone https://github.com/SamurAIGPT/Text-To-Video-AI"
      ]
    },
    {
      "cell_type": "code",
      "execution_count": null,
      "metadata": {
        "id": "ZvqhgpZHg_02"
      },
      "outputs": [],
      "source": [
        "%cd Text-To-Video-AI"
      ]
    },
    {
      "cell_type": "markdown",
      "metadata": {
        "id": "wnj485rjCo0i"
      },
      "source": [
        "### Install dependencies"
      ]
    },
    {
      "cell_type": "code",
      "execution_count": null,
      "metadata": {
        "id": "i0tWUgm2hD-0"
      },
      "outputs": [],
      "source": [
        "!pip3.11 install -r requirements.txt"
      ]
    },
    {
      "cell_type": "markdown",
      "metadata": {
        "id": "ZTgjbem5Cwtx"
      },
      "source": [
        "### Setup api keys"
      ]
    },
    {
      "cell_type": "code",
      "execution_count": null,
      "metadata": {
        "id": "1y66YFE9lHu0"
      },
      "outputs": [],
      "source": [
        "import os\n",
        "\n",
        "#for text generation, use openai or groq. groq model used: \"llama3-70b-8192\"\n",
        "#note: use just one\n",
        "os.environ[\"OPENAI_KEY\"]=\"openai-key\"\n",
        "os.environ['GROQ_API_KEY'] = \"grog_api\"\n",
        "\n",
        "os.environ[\"PEXELS_KEY\"]=\"pexels-key\""
      ]
    },
    {
      "cell_type": "markdown",
      "metadata": {
        "id": "sgCT0PfUCzBB"
      },
      "source": [
        "### Modify permissions for Imagemagick (workaround in colab)"
      ]
    },
    {
      "cell_type": "code",
      "execution_count": null,
      "metadata": {
        "id": "F9I5aBXpSHOn"
      },
      "outputs": [],
      "source": [
        "!apt install imagemagick &> /dev/null\n",
        "!sed -i '/<policy domain=\"path\" rights=\"none\" pattern=\"@\\*\"/d' /etc/ImageMagick-6/policy.xml"
      ]
    },
    {
      "cell_type": "markdown",
      "metadata": {
        "id": "-eSR3l6GDA09"
      },
      "source": [
        "### Generate video from topic"
      ]
    },
    {
      "cell_type": "code",
      "execution_count": null,
      "metadata": {
        "id": "2vXBl4iglcvW"
      },
      "outputs": [],
      "source": [
        "!python3.11 app.py \"deep learning\""
      ]
    },
    {
      "cell_type": "markdown",
      "metadata": {
        "id": "INuevyW2DEL_"
      },
      "source": [
        "### Display video"
      ]
    },
    {
      "cell_type": "code",
      "execution_count": null,
      "metadata": {
        "id": "Slwx-FN_XPcB"
      },
      "outputs": [],
      "source": [
        "from IPython.display import HTML\n",
        "from base64 import b64encode\n",
        "\n",
        "# Path to the video file\n",
        "video_path = 'rendered_video.mp4'\n",
        "\n",
        "# Function to display video\n",
        "def display_video(video_path, width=640, height=480):\n",
        "    # Load video\n",
        "    video_file = open(video_path, \"rb\").read()\n",
        "    video_url = \"data:video/mp4;base64,\" + b64encode(video_file).decode()\n",
        "    return HTML(f\"\"\"\n",
        "    <video width={width} height={height} controls>\n",
        "        <source src=\"{video_url}\" type=\"video/mp4\">\n",
        "    </video>\n",
        "    \"\"\")\n",
        "\n",
        "# Display video\n",
        "display_video(video_path)"
      ]
    }
  ],
  "metadata": {
    "colab": {
      "provenance": [],
      "include_colab_link": true
    },
    "kernelspec": {
      "display_name": "Python 3",
      "name": "python3"
    },
    "language_info": {
      "name": "python"
    }
  },
  "nbformat": 4,
  "nbformat_minor": 0
}